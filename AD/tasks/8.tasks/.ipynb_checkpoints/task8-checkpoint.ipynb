{
 "cells": [
  {
   "cell_type": "markdown",
   "metadata": {},
   "source": [
    "# <a href=\"https://mipt-stats.gitlab.io/courses/ad_fivt.html\">Введение в анализ данных</a>\n",
    "## Домашнее задание 8. Оценки параметров.\n"
   ]
  },
  {
   "cell_type": "markdown",
   "metadata": {},
   "source": [
    "**Правила, <font color=\"red\">прочитайте внимательно</font>:**\n",
    "\n",
    "* Выполненную работу нужно отправить телеграм-боту `@miptstats_ds22_bot`. Для начала работы с ботом каждый раз отправляйте `/start`. **Работы, присланные иным способом, не принимаются.**\n",
    "* Дедлайн см. в боте. После дедлайна работы не принимаются кроме случаев наличия уважительной причины.\n",
    "* Прислать нужно **ноутбук в формате `ipynb`**.\n",
    "* Следите за размером файлов. **Бот не может принимать файлы весом более 20 Мб.** Если файл получается больше, заранее разделите его на несколько.\n",
    "* Выполнять задание необходимо полностью самостоятельно. **При обнаружении списывания все участники списывания будут сдавать устный зачет.**\n",
    "* Решения, размещенные на каких-либо интернет-ресурсах, не принимаются. Кроме того, публикация решения в открытом доступе может быть приравнена к предоставлении возможности списать.\n",
    "* Для выполнения задания используйте этот ноутбук в качестве основы, ничего не удаляя из него. Можно добавлять необходимое количество ячеек.\n",
    "* Комментарии к решению пишите в markdown-ячейках.\n",
    "* Выполнение задания (ход решения, выводы и пр.) должно быть осуществлено на русском языке.\n",
    "* Если код будет не понятен проверяющему, оценка может быть снижена.\n",
    "* Никакой код из данного задания при проверке запускаться не будет. *Если код студента не выполнен, недописан и т.д., то он не оценивается.*\n",
    "\n",
    "**Правила оформления теоретических задач:**\n",
    "\n",
    "* Решения необходимо прислать одним из следующих способов:\n",
    "  * фотографией в правильной ориентации, где все четко видно, а почерк разборчив,\n",
    "    * отправив ее как файл боту вместе с ноутбуком *или*\n",
    "    * вставив ее в ноутбук посредством `Edit -> Insert Image`;\n",
    "  * в виде $LaTeX$ в markdown-ячейках.\n",
    "* Решения не проверяются, если какое-то требование не выполнено. Особенно внимательно все проверьте в случае выбора второго пункта (вставки фото в ноутбук). <font color=\"red\"><b>Неправильно вставленные фотографии могут не передаться при отправке.</b></font> Для проверки попробуйте переместить `ipynb` в другую папку и открыть его там.\n",
    "* В решениях поясняйте, чем вы пользуетесь, хотя бы кратко. Например, если пользуетесь независимостью, то достаточно подписи вида \"*X и Y незав.*\"\n",
    "* Решение, в котором есть только ответ, и отсутствуют вычисления, оценивается в 0 баллов.\n",
    "\n",
    "\n",
    "\n",
    "**Баллы за задание:**\n",
    "\n",
    "* Задача 1 &mdash; 60 баллов\n",
    "* Задача 2 &mdash; 20 баллов\n",
    "* Задача 3 &mdash; 30 баллов\n",
    "* Задача 4 &mdash; 50 баллов\n",
    "\n",
    "Баллы учитываются в <b><font color=\"green\">факультативной части</font></b> курса и не влияют на оценку по основной части."
   ]
  },
  {
   "cell_type": "code",
   "execution_count": 1,
   "metadata": {
    "colab": {},
    "colab_type": "code",
    "id": "ht9Xm0EucoAr"
   },
   "outputs": [],
   "source": [
    "import numpy as np\n",
    "import pandas as pd\n",
    "import matplotlib.pyplot as plt\n",
    "import seaborn as sns\n",
    "import scipy.stats as stats\n",
    "\n",
    "sns.set(style='whitegrid', font_scale=1.2, palette='Set2')\n",
    "%matplotlib inline"
   ]
  },
  {
   "cell_type": "markdown",
   "metadata": {},
   "source": [
    "Перед выполнением задания обязательно посмотрите <a href=\"https://mipt-stats.gitlab.io/courses/ad_fivt/estimators.html\">ноутбук</a> с занятия по оценкам параметров."
   ]
  },
  {
   "cell_type": "markdown",
   "metadata": {},
   "source": [
    "\n",
    "---\n",
    "### Задача 1.\n",
    "\n",
    "Найдите оценку параметра $\\theta$ методом моментов по выборке размера $n$ из распределения:\n",
    "* $U(a, b), \\theta=(a, b)$; \n",
    "* $Pois(\\theta)$;\n",
    "* $\\mathcal{N}(a, \\sigma^2), \\theta=(a, \\sigma)$."
   ]
  },
  {
   "cell_type": "markdown",
   "metadata": {},
   "source": [
    "### Ответ.\n",
    "Общая формула для нахождения оценки с лекции:\\\n",
    "$\n",
    "\\begin{cases}\n",
    "\\mathsf{E}_{\\theta}X_1 = \\overline X\\\\\n",
    "\\mathsf{E}_{\\theta}{X_1}^2 = \\overline {X^2}\\\\\n",
    "\\text{...}\\\\\n",
    "\\mathsf{E}_{\\theta}{X_1}^d = \\overline {X^d}\\\\\n",
    "\\end{cases}\n",
    "$\n",
    "\n",
    "где $X_1$ - случайная величина распределённая по $P_{\\theta}$.\\\n",
    "$\\theta \\in \\mathbb{R}^d$"
   ]
  },
  {
   "cell_type": "markdown",
   "metadata": {},
   "source": [
    "##### Часть 1.\n",
    "$d = 2$\n",
    "\n",
    "Первое уравнение: $\\frac{a + b}{2} = \\overline X$,\\\n",
    "$a + b = 2 * \\overline X$\n",
    "\n",
    "Второе уравнение вида $\\mathsf{E}_{\\theta}{X_1}^2 = \\overline {X^2}$\\\n",
    "$\\mathsf{E}_{\\theta}{X_1}^2 = \\int_a^b \\frac{1}{b - a} * x^2 dx = \n",
    "\\frac{x^3}{3 * (b - a)} |_a^b = \\frac{a^2 + ab + b^2}{3}$\\\n",
    "Иными словами:\\\n",
    "$a^2 + ab + b^2 = 3 * \\overline {X^2}$\n",
    "\n",
    "Решая систему\\\n",
    "$\n",
    "\\begin{cases}\n",
    "a + b = 2 * \\overline X\\\\\n",
    "a^2 + ab + b^2 = 3 * \\overline {X^2}\\\\\n",
    "\\end{cases}\n",
    "$\n",
    "\n",
    "$(2 \\overline X - b)^2 + (2 \\overline X - b)b + b^2 = 3 \\overline {X^2}$\n",
    "\n",
    "$b^2 + b(-4 \\overline X + 2 \\overline X) + (4{\\overline X}^2 - 3\\overline {X^2}) = 0$\n",
    "\n",
    "$b^2 - b(2 \\overline X) + (4{\\overline X}^2 - 3\\overline {X^2}) = 0$\n",
    "\n",
    "$D = 4{\\overline X}^2 - 4 (4{\\overline X}^2 - 3\\overline {X^2}) = 12 \\overline {X^2} - 12 {\\overline X}^2$ \n",
    "\n",
    "Получим **Ответ:** (в силу симметричности $a, b$ в системе и $a < b$)\\\n",
    "$\\widehat b = \\overline X + \\sqrt{3 \\overline {X^2} - 3 {\\overline X}^2}$\\\n",
    "$\\widehat a = \\overline X - \\sqrt{3 \\overline {X^2} - 3 {\\overline X}^2}$\n",
    "\n",
    "*Замечание: Можно было воспользоваться известной формулой дисперсии $\\frac{(b-a)^2}{2}$ и оценкой дисперсии $\\overline {X^2} - {\\overline X}^2$*"
   ]
  },
  {
   "cell_type": "markdown",
   "metadata": {},
   "source": [
    "##### Часть 2.\n",
    "$d = 1$\n",
    "\n",
    "Докажем что:\n",
    "$\\mathsf{E}_{\\theta}X_1 = \\theta$\\\n",
    "Откуда сразу **Ответ**: $\\widehat \\theta = \\overline X$\n",
    "\n",
    "Доказательство:\\\n",
    "$\\mathsf{E}_{\\theta}{X_1} = \\sum_{k = 1}^{\\infty} \\frac{e^{-\\theta} * {\\theta}^k}{k!} k = \n",
    "e^{-\\theta} * \\theta * \\sum_{k = 1}^{\\infty} \\frac{{\\theta}^{k - 1}}{(k - 1)!} = \n",
    "e^{-\\theta} * \\theta * \\sum_{k = 0}^{\\infty} \\frac{{\\theta}^k}{k!} = e^{-\\theta} * \\theta * e^{\\theta} = \\theta$\n",
    "\n",
    "Ч.т.д."
   ]
  },
  {
   "cell_type": "markdown",
   "metadata": {},
   "source": [
    "##### Часть 3.\n",
    "Имеем $\\mathcal{N}(a, \\sigma^2), \\theta=(a, \\sigma)$\n",
    "\n",
    "$d = 2$\n",
    "\n",
    "Первое уравнение: $\\mathsf{E}_{\\theta}{X_1} = \\overline X$,\n",
    "\n",
    "$\\mathsf{E}_{\\theta}{X_1} = \\int_{-\\infty}^{\\infty} \\frac{1}{\\sigma\\sqrt{2\\pi}} * \\mathsf{e}^{-\\frac{(x-a)^2}{2\\sigma^2}} * x * dx = \n",
    "\\frac{1}{\\sigma\\sqrt{2\\pi}} \\int_{-\\infty}^{\\infty} \\mathsf{e}^{-\\frac{(x-a)^2}{2\\sigma^2}} * (x-a) * dx + \n",
    "\\frac{a}{\\sigma\\sqrt{2\\pi}} \\int_{-\\infty}^{\\infty} \\mathsf{e}^{-\\frac{(x-a)^2}{2\\sigma^2}} * dx = $\\\n",
    "$= \\frac{1}{\\sigma\\sqrt{2\\pi}} \\int_{-\\infty}^{\\infty} \\mathsf{e}^{-\\frac{x^2}{2\\sigma^2}} * x * dx + \n",
    "\\frac{a}{\\sigma\\sqrt{2\\pi}} \\int_{-\\infty}^{\\infty} \\mathsf{e}^{-\\frac{x^2}{2\\sigma^2}} * dx = \n",
    "0 + \\frac{\\sqrt{2}a}{\\sigma\\sqrt{\\pi}} \\int_{0}^{\\infty} \\mathsf{e}^{-\\frac{x^2}{2\\sigma^2}} * dx = $\\\n",
    "$=\\frac{\\sqrt{2}a}{\\sigma\\sqrt{\\pi}} \\int_{0}^{\\infty} \\mathsf{e}^{-\\frac{x^2}{2}} * \\sigma * dx = \n",
    "\\frac{\\sqrt{2}a}{\\sigma\\sqrt{\\pi}} \\sqrt{\\frac{\\pi}{2}} * \\sigma = a$\n",
    "\n",
    "Один из переходов совершён по чётности и нечётности подинтегральных функций.\n",
    "\n",
    "Откуда $a = \\overline X$\n",
    "\n",
    "Второе уравнение вида $\\mathsf{E}_{\\theta}{X_1}^2 = \\overline {X^2}$\n",
    "\n",
    "$\\mathsf{E}_{\\theta}{X_1}^2 = \\int_{-\\infty}^{\\infty} \\frac{1}{\\sigma\\sqrt{2\\pi}} * \\mathsf{e}^{-\\frac{(x-a)^2}{2\\sigma^2}} * x^2 dx = \n",
    "\\frac{1}{\\sigma\\sqrt{2\\pi}} * \\int_{-\\infty}^{\\infty} \\mathsf{e}^{-\\frac{x^2}{2\\sigma^2}} * (x+a)^2 dx = $\\\n",
    "$= \\frac{1}{\\sigma\\sqrt{2\\pi}} * \\int_{-\\infty}^{\\infty} \\mathsf{e}^{-\\frac{x^2}{2\\sigma^2}} * x^2 dx + \n",
    "\\frac{1}{\\sigma\\sqrt{2\\pi}} * \\int_{-\\infty}^{\\infty} \\mathsf{e}^{-\\frac{x^2}{2\\sigma^2}} * 2xa dx + \n",
    "\\frac{1}{\\sigma\\sqrt{2\\pi}} * \\int_{-\\infty}^{\\infty} \\mathsf{e}^{-\\frac{x^2}{2\\sigma^2}} * a^2 dx = $\\\n",
    "$= \\frac{1}{\\sigma\\sqrt{2\\pi}} * \\int_{-\\infty}^{\\infty} \\mathsf{e}^{-\\frac{x^2}{2\\sigma^2}} * x^2 dx + 0 + a^2 = \n",
    "\\frac{\\sigma^2}{\\sqrt{2\\pi}} * \\int_{-\\infty}^{\\infty} \\mathsf{e}^{-\\frac{x^2}{2}} * x^2 dx + 0 + a^2 = \n",
    "\\frac{\\sigma^2}{\\sqrt{2\\pi}} * \\sqrt{2\\pi} + 0 + a^2 = \\sigma^2 + a^2$\n",
    "\n",
    "Иными словами: $\\sigma = \\sqrt{\\overline {X^2} - (\\overline X)^2}$\n",
    "\n",
    "**Ответ:**\n",
    "$\\widehat a = \\overline X\\\\\n",
    "\\widehat \\sigma = \\sqrt{\\overline {X^2} - (\\overline X)^2}$\n"
   ]
  },
  {
   "cell_type": "markdown",
   "metadata": {},
   "source": [
    "\n",
    "---\n",
    "### Задача 2.\n",
    "\n",
    "Являются ли сильно состоятельными оценки, полученные в предыдущей задаче?\n",
    "\n",
    "Для равномерного распределения *достаточно* выполнить визуальную проверку, в остальных случаях &mdash; *необходимо* привести теоретическое доказательство."
   ]
  },
  {
   "cell_type": "markdown",
   "metadata": {},
   "source": [
    "Ответ: Извините, я натехался:("
   ]
  },
  {
   "cell_type": "markdown",
   "metadata": {
    "id": "hYgTespbkXej"
   },
   "source": [
    "---\n",
    "### Задача 3.   \n",
    "\n",
    "**a).** Пусть $X_1,...,X_n$ выборка из некоторого распределения $\\mathsf{P}$, причем ${\\sf D} X_1=\\sigma^2<+\\infty$, и $\\sigma$ неизвестно. \n",
    "Рассмотрим оценку $S^2 = \\overline{X^2}-\\overline{X}^2$ дисперсии $\\sigma^2$.\n",
    "\n",
    "Докажите, что $S^2=\\frac1n\\sum\\limits_{i=1}^n\\left(X_i-\\overline{X}\\right)^2$.\n",
    "\n",
    "**b).** Оценка $\\widehat{\\theta}$ называется несмещенной оценкой параметра $\\theta$ если для любого $\\theta \\in \\Theta$ выполнено $\\mathsf{E}_\\theta \\widehat{\\theta} = \\theta$. Иначе говоря, какое бы ни оказалось истинное значение параметра $\\theta$ рассматривая оценку $\\widehat{\\theta}$ в среднем будем получать именно $\\theta$.\n",
    "\n",
    "Является ли статистика $S^2$ несмещенной оценкой $\\sigma^2$?\n",
    "\n",
    "*Подсказка.* Посчитайте математическое ожидание случайной величины $S^2$. Используйте для этого известные вам свойства математического ожидания."
   ]
  },
  {
   "cell_type": "markdown",
   "metadata": {},
   "source": [
    "### Решение:\n",
    "\n",
    "**а).** По определению $S^2 = \\frac{1}{n} \\sum_{k=1}^n X_i^2 - \\frac{1}{n^2} (\\sum_{k=1}^n X_i)^2 =\n",
    "\\frac{n \\sum_{k=1}^n X_i^2 - (\\sum_{k=1}^n X_i)^2}{n^2} =\n",
    "\\frac{n \\sum_{k=1}^n X_i^2 - 2 (\\sum_{k=1}^n X_i)^2 + (\\sum_{k=1}^n X_i)^2}{n^2} =\n",
    "\\frac{n \\sum_{k=1}^n X_i^2 - 2 * n (\\sum_{k=1}^n X_i) \\overline X  + n^2 (\\overline X)^2}{n^2} = \n",
    "\\frac{\\sum_{k=1}^n (X_i^2 - 2 X_i \\overline X + (\\overline X)^2)}{n} =$\\\n",
    "$= \\frac{\\sum_{k=1}^n\\left(X_k-\\overline{X}\\right)^2}{n}$"
   ]
  },
  {
   "cell_type": "markdown",
   "metadata": {},
   "source": [
    "**б).**  Составим цепочку. ${\\sf D} X_1 = \\mathsf{E}X_1^2 - (\\mathsf{E}X_1)^2 =\n",
    "\\sigma^2 \\quad \\text{?=?} \\quad \\mathsf{E} S^2 = \\mathsf{E} (\\overline{X^2} - \\overline{X}^2) =\n",
    "\\mathsf{E} \\overline{X^2} - \\mathsf{E} \\overline{X}^2 = \\mathsf{E} X_1^2 - \\mathsf{E} \\overline{X}^2$\n",
    "\n",
    "Таким образом вопрос:\n",
    "\n",
    "$(\\mathsf{E}X_1)^2 \\quad \\text{?=?} \\quad \\mathsf{E} \\overline{X}^2$\n",
    "\n",
    "Раскроем $\\mathsf{E} \\overline{X}^2$ по линейности:\n",
    "\n",
    "$\\mathsf{E} \\overline{X}^2 = \\frac{1}{n^2} \\sum\\limits_{i=1, j=1}^{n, n} \\mathsf{E}(X_i * X_j) =\n",
    "\\frac{1}{n^2} (\\sum\\limits_{i=1, j=1, i \\neq j}^{n, n} \\mathsf{E}(X_i * X_j) +\n",
    "\\sum\\limits_{i=1}^{n} \\mathsf{E}(X_i^2)) = \n",
    "\\frac{1}{n^2} (\\sum\\limits_{i=1, j=1, i \\neq j}^{n, n} \\mathsf{E}X_i * \\mathsf{E}X_j) +\n",
    "\\sum\\limits_{i=1}^{n} \\mathsf{E}(X_i^2)) = $\\\n",
    "$ = \\frac{1}{n^2} (\\sum\\limits_{i=1, j=1, i \\neq j}^{n, n} (\\mathsf{E}X_1)^2 +\n",
    "\\sum\\limits_{i=1}^{n} \\mathsf{E}(X_1^2))$\n",
    "\n",
    "*Замечение: Пользовались независимостью $X_i$ и их одинаковой распределённостью.*\n",
    "\n",
    "Тогда получаем необходимое и достаточно условие:\n",
    "$(\\mathsf{E}X_1)^2 = \\mathsf{E} X_1^2$\n",
    "\n",
    "Что эквивалентно $\\mathsf{D}X_1 = \\sigma^2 = 0$\n",
    "\n",
    "К тому же попутно выяснили, что $(\\mathsf{E}X_1)^2 - \\mathsf{E} \\overline{X}^2 = \\frac{\\sigma^2}{n}$.\\\n",
    "Откуда $\\sigma^2 - \\mathsf{E} S^2 = \\frac{\\sigma^2}{n}$\\\n",
    "Откуда $\\mathsf{E} S^2 = \\frac{n-1}{n} * \\sigma^2$\n",
    "\n",
    "Откуда это верно не при всех $\\sigma$, тогда\\\n",
    "**Ответ:** $S^2$ не несмещённая оценка $\\sigma^2$"
   ]
  },
  {
   "cell_type": "markdown",
   "metadata": {
    "id": "ZH_7vCIE4Md7"
   },
   "source": [
    " ---\n",
    "### Задача 4.   \n",
    "Пусть $X_1, ..., X_n$ &mdash; выборка из распределения $\\mathcal{N}(0, \\sigma^2)$. В качестве оценок $\\sigma^2$ обычно используют $S^2$ или $\\frac{n}{n-1}S^2$. Что можно сказать про их несмещенность?"
   ]
  },
  {
   "cell_type": "markdown",
   "metadata": {
    "id": "jHlO95TVJGqx"
   },
   "source": [
    "**Ответ:** Согласно заданию 3: $S^2$ - не несмещённая, а $\\frac{n}{n-1}S^2$ - несмещённая, т.к. её матож как раз $\\sigma^2$."
   ]
  },
  {
   "cell_type": "markdown",
   "metadata": {
    "id": "JP3jb2n64hgO"
   },
   "source": [
    "**1.** Теперь проверьте это на практике. Для каждой из приведенных выше оценок $\\widehat{\\theta}$ выполните следующие действия.\n",
    "\n",
    "* Вычислите $k = 500$ независимых оценок $\\widehat{\\theta}_1, ... , \\widehat{\\theta}_k$ по независимым выборкам $(X_1^1, ... , X_n^1), ... , (X_1^k, ... , X_n^k)$, сгенерированным из распределения $\\mathcal{N}(0, \\sigma^2)$. Далее вычислите среднее этих оценок, которое обозначим $\\widetilde{\\theta}$.\n",
    "\n",
    "* Визуализируйте полученные значения, построив на **одном** графике точки $(\\widehat{\\theta}_1, $y$), ... , (\\widehat{\\theta}_k, y)$ и среднее оценок $(\\widetilde{\\theta}, y)$, где $y$ &mdash; произвольные различные (например 0, 1, 2) координаты для двух различных типов оценок.\n",
    "\n",
    "* Повторите действие три раза для $n \\in \\{10, 100, 500\\}$. В итоге получится три графика для различных $n$, на каждом из которых изображено поведение двух типов оценок и их среднее.\n",
    "\n",
    "Используйте приведенный ниже **шаблон** для визуализации значений.\n",
    "\n",
    "**Внимание!** Следите за информативностью и наглядностью графиков. Например, пустых пространств должно быть как можно меньше, ничего не должно быть скомкано, вся нужная информация должна быть представлена. Посмотрите также презентацию с разбора задания 1. **Если график чему-то не удовлетворяет, оценка будет снижена.**\n",
    "\n",
    "Вместо использования `matplotlib` можно также строить графики с помощью `plotly`."
   ]
  },
  {
   "cell_type": "code",
   "execution_count": null,
   "metadata": {
    "id": "EkmPUrPwpoEZ"
   },
   "outputs": [],
   "source": [
    "# Вначале:\n",
    "plt.figure(figsize=<размер>)\n",
    "\n",
    "# Для каждой оценки:\n",
    "plt.scatter(<независимые оценки> , np.zeros(k) + y, \n",
    "            alpha=0.1, s=100, color=<цвет>, label=<метка>)\n",
    "plt.scatter(<независимые оценки>.mean(), y, marker='*', s=200, \n",
    "            color='w', edgecolors='black')\n",
    "\n",
    "# Для всего графика:\n",
    "plt.vlines(1, <наименьший y>, <наибольший y>, color='r')\n",
    "plt.title(f'Размер выборки = {k}')\n",
    "plt.yticks([])\n",
    "plt.legend()"
   ]
  },
  {
   "cell_type": "markdown",
   "metadata": {
    "id": "FdCCsVL43jva"
   },
   "source": [
    "**Решение:**\\\n",
    "Положим $\\sigma = 1$, согласно комментариям в чате."
   ]
  },
  {
   "cell_type": "markdown",
   "metadata": {},
   "source": [
    "Вычислим соответствующие оценки"
   ]
  },
  {
   "cell_type": "code",
   "execution_count": 52,
   "metadata": {
    "id": "8qcnAu0a3jva"
   },
   "outputs": [],
   "source": [
    "def gen(n, k, theta_type):\n",
    "    avg = 0\n",
    "    theta = []\n",
    "    for i in range(k):\n",
    "        X_i = stats.norm.rvs(size = n, loc = 0, scale = 1)\n",
    "        theta_i = (1 if theta_type == 0 else n/(n-1)) * (np.mean(X_i * X_i) - np.power(X_i.mean(), 2))\n",
    "        theta += [theta_i]\n",
    "        avg += theta_i\n",
    "    avg /= k\n",
    "    return theta, avg\n",
    "\n",
    "n_range = [10, 100, 500]\n",
    "k = 500\n",
    "data = []\n",
    "for theta_type in range(2):\n",
    "    thetas = []\n",
    "    avg_thetas = []\n",
    "    for n in n_range:\n",
    "        theta, avg = gen(n, k, theta_type)\n",
    "        thetas += [theta]\n",
    "        avg_thetas += [avg]\n",
    "    data += [(thetas, avg_thetas)]"
   ]
  },
  {
   "cell_type": "markdown",
   "metadata": {},
   "source": [
    "Визуализируем"
   ]
  },
  {
   "cell_type": "code",
   "execution_count": 53,
   "metadata": {},
   "outputs": [
    {
     "data": {
      "image/png": "[encoded data removed]",
      "text/plain": [
       "<Figure size 1512x504 with 3 Axes>"
      ]
     },
     "metadata": {
      "needs_background": "light"
     },
     "output_type": "display_data"
    }
   ],
   "source": [
    "plt.figure(figsize=(21, 7))\n",
    "colors = ['black', 'green']\n",
    "labels = ['Оценка $S^2$', r'Оценка $\\frac{n}{n-1} S^2$']\n",
    "\n",
    "def prepare_axes():\n",
    "    for i, n in enumerate(n_range):\n",
    "        ax = plt.subplot(1, 3, i + 1)\n",
    "        plt.vlines(1, 0, 1, color='r')\n",
    "        plt.title(f'Размер выборки = {n}')\n",
    "        plt.yticks([])\n",
    "        plt.legend(loc=5)\n",
    "\n",
    "def plot_data(thetas, avg_thetas, y):\n",
    "    for i, n in enumerate(n_range):\n",
    "        theta = thetas[i]\n",
    "        avg_theta = avg_thetas[i]\n",
    "        ax = plt.subplot(1, 3, i + 1)\n",
    "        plt.scatter(theta, np.zeros(k) + y, \n",
    "            alpha=0.1, s=100, color=colors[y], label=labels[y])\n",
    "        plt.scatter(avg_theta, y, marker='*', s=200, \n",
    "            color='w', edgecolors='black')\n",
    "    \n",
    "for y, data_schema in enumerate(data):\n",
    "    thetas, avg_thetas = data_schema\n",
    "    plot_data(thetas, avg_thetas, y)\n",
    "    \n",
    "prepare_axes()"
   ]
  },
  {
   "cell_type": "markdown",
   "metadata": {
    "id": "-ZfBwUhe3jvb"
   },
   "source": [
    "**2.** Изучим поведение среднего оценок из первого пункта при росте размера выборки. Постройте график зависимости $\\widetilde{\\theta}$ от $n$ для двух типов оценок. Для вычисления зависимости нужно один раз сгенерировать выборки из пункта 1 достаточно большого размера (не более 500) и посчитать оценки по подвыборкам, используя <a href=\"https://mipt-stats.gitlab.io/courses/python/05_numpy.html#2.1-Математические-операции\">функции</a> из `numpy`. Использовать циклы, а так же функции, разворачивающиеся в цикл (например, `np.vectorize`), запрещено. "
   ]
  },
  {
   "cell_type": "markdown",
   "metadata": {
    "id": "jIBkuOKb3jvb"
   },
   "source": [
    "**Решение:**"
   ]
  },
  {
   "cell_type": "markdown",
   "metadata": {},
   "source": [
    "Подсчитываем $\\widetilde{\\theta_i}$ для каждого типа оценок"
   ]
  },
  {
   "cell_type": "code",
   "execution_count": 123,
   "metadata": {
    "id": "ZP8sBmKL3jvb"
   },
   "outputs": [],
   "source": [
    "data = []\n",
    "n = 100\n",
    "arg_range = np.arange(1, k + 1)\n",
    "arg_range_minus_1 = arg_range - 1\n",
    "arg_range_minus_1[0] = 1\n",
    "X = stats.norm.rvs(size = (k, n), loc = 0, scale = 1)\n",
    "for theta_type in range(2):\n",
    "    A = np.mean(X * X, axis=1)\n",
    "    B = np.power(np.mean(X, axis=1), 2)\n",
    "    theta = (np.ones(k) if theta_type == 0 else arg_range / arg_range_minus_1) * (A - B)\n",
    "    pref_sums = theta.cumsum()\n",
    "    avgs = pref_sums / arg_range\n",
    "    data += [avgs]"
   ]
  },
  {
   "cell_type": "markdown",
   "metadata": {},
   "source": [
    "Визуализируем"
   ]
  },
  {
   "cell_type": "code",
   "execution_count": 124,
   "metadata": {},
   "outputs": [
    {
     "data": {
      "image/png": "[encoded data removed]",
      "text/plain": [
       "<Figure size 648x648 with 1 Axes>"
      ]
     },
     "metadata": {
      "needs_background": "light"
     },
     "output_type": "display_data"
    }
   ],
   "source": [
    "plt.figure(figsize=(9, 9))\n",
    "with sns.axes_style('darkgrid'):\n",
    "    ax = plt.axes()\n",
    "    for i, avgs in enumerate(data):\n",
    "        ax.plot(arg_range, avgs, label = labels[i], color=colors[i])\n",
    "    ax.legend()\n",
    "    ax.set_ylabel(r\"$\\widetilde{\\theta}$ - средняя оценка\")\n",
    "    ax.set_xlabel(\"Размер выборки\")\n",
    "    ax.set_title(\"Зависимость оценки от размера выборки\");"
   ]
  },
  {
   "cell_type": "markdown",
   "metadata": {
    "id": "agviQcZi3jvd"
   },
   "source": [
    "Сделайте вывод о том, что такое свойство несмещенности. Подтверждают ли сделанные эксперименты полученное в теоретических задачах свойство несмещенности (или отсутствие этого свойства) данных оценок? Поясните, почему в лабораторных по физике при оценке погрешности иногда используют $n-1$ в знаменателе, а не $n$."
   ]
  },
  {
   "cell_type": "markdown",
   "metadata": {
    "id": "md1nb2PX3jvd"
   },
   "source": [
    "**Вывод:** "
   ]
  },
  {
   "cell_type": "markdown",
   "metadata": {},
   "source": [
    "1. Исходя из всего задания: Свойство несмещённости описывает гарантию, что при фиксированном размере выборки матожидание оценки равно истинному параметру. На графиках свойство несмещённости визуализируется наболее быстрым схождением к истинной величине. \n",
    "2. Проделанные эксперименты подтверждают п.1 и выведенные тезисы о несмещённости $\\frac{n}{n-1}*S^2$ и смещённости $S^2$. Особенно хорошо это видно на последнем графике. Также понятно, что при увеличении n оценки становятся всё менее различимыми. Это обуславливается стремлением величины $\\frac{n}{n-1}$ к 1.\n",
    "3. Из вышесказанного следует, что более точной является оценка $\\frac{n}{n-1}*S^2$. Поэтому при подсчёте среднеквадратичного отклонения в физике, используют на практике $\\frac{n}{n-1}*S^2$, а не $S^2$(ну или корень из этой величины)."
   ]
  },
  {
   "cell_type": "markdown",
   "metadata": {},
   "source": [
    "*Замечание.* Проведенные эксперименты позволяют сделать вывод только о поведении среднего значения оценки, но ничего не говорят о том, насколько велик их разброс относительно среднего."
   ]
  }
 ],
 "metadata": {
  "colab": {
   "collapsed_sections": [],
   "name": "stats.ipynb",
   "provenance": [],
   "version": "0.3.2"
  },
  "kernelspec": {
   "display_name": "Python 3 (ipykernel)",
   "language": "python",
   "name": "python3"
  },
  "language_info": {
   "codemirror_mode": {
    "name": "ipython",
    "version": 3
   },
   "file_extension": ".py",
   "mimetype": "text/x-python",
   "name": "python",
   "nbconvert_exporter": "python",
   "pygments_lexer": "ipython3",
   "version": "3.9.12"
  }
 },
 "nbformat": 4,
 "nbformat_minor": 1
}
